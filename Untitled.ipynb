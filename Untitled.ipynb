{
 "cells": [
  {
   "cell_type": "code",
   "execution_count": 8,
   "metadata": {},
   "outputs": [
    {
     "name": "stdout",
     "output_type": "stream",
     "text": [
      "{'meta': {'symbol': 'AMZN', 'interval': '1day', 'currency': 'USD', 'exchange_timezone': 'America/New_York', 'exchange': 'NASDAQ', 'mic_code': 'XNGS', 'type': 'Common Stock'}, 'values': [{'datetime': '2023-09-29', 'open': '127.81500', 'high': '129.14999', 'low': '126.32000', 'close': '127.26990', 'volume': '41381486'}], 'status': 'ok'}\n"
     ]
    }
   ],
   "source": [
    "import pandas as pd\n",
    "import requests\n",
    "\n",
    "url = \"https://twelve-data1.p.rapidapi.com/time_series\"\n",
    "\n",
    "querystring = {\"symbol\":\"AMZN\",\"interval\":\"1day\",\"outputsize\":\"1\",\"format\":\"json\"}\n",
    "\n",
    "headers = {\n",
    "\t\"X-RapidAPI-Key\": \"61d11dfc19msh8f1adb96bd2e05ep1030d1jsn073be1c1af0e\",\n",
    "\t\"X-RapidAPI-Host\": \"twelve-data1.p.rapidapi.com\"\n",
    "}\n",
    "\n",
    "response = requests.get(url, headers=headers, params=querystring)\n",
    "\n",
    "\n",
    "print(response.json())"
   ]
  },
  {
   "cell_type": "code",
   "execution_count": 10,
   "metadata": {},
   "outputs": [
    {
     "data": {
      "text/plain": [
       "{'meta': {'symbol': 'AMZN',\n",
       "  'interval': '1day',\n",
       "  'currency': 'USD',\n",
       "  'exchange_timezone': 'America/New_York',\n",
       "  'exchange': 'NASDAQ',\n",
       "  'mic_code': 'XNGS',\n",
       "  'type': 'Common Stock'},\n",
       " 'values': [{'datetime': '2023-09-29',\n",
       "   'open': '127.81500',\n",
       "   'high': '129.14999',\n",
       "   'low': '126.32000',\n",
       "   'close': '127.21810',\n",
       "   'volume': '41436132'}],\n",
       " 'status': 'ok'}"
      ]
     },
     "execution_count": 10,
     "metadata": {},
     "output_type": "execute_result"
    }
   ],
   "source": [
    "import pandas as pd\n",
    "import requests\n",
    "\n",
    "url = \"https://twelve-data1.p.rapidapi.com/time_series\"\n",
    "\n",
    "querystring = {\"symbol\":\"AMZN\",\"interval\":\"1day\",\"outputsize\":\"1\",\"format\":\"json\"}\n",
    "\n",
    "headers = {\n",
    "\t\"X-RapidAPI-Key\": \"61d11dfc19msh8f1adb96bd2e05ep1030d1jsn073be1c1af0e\",\n",
    "\t\"X-RapidAPI-Host\": \"twelve-data1.p.rapidapi.com\"\n",
    "}\n",
    "\n",
    "response = requests.get(url, headers=headers, params=querystring)\n",
    "\n",
    "dict = response.json()\n",
    "dict"
   ]
  },
  {
   "cell_type": "code",
   "execution_count": 43,
   "metadata": {},
   "outputs": [
    {
     "data": {
      "text/html": [
       "<div>\n",
       "<style scoped>\n",
       "    .dataframe tbody tr th:only-of-type {\n",
       "        vertical-align: middle;\n",
       "    }\n",
       "\n",
       "    .dataframe tbody tr th {\n",
       "        vertical-align: top;\n",
       "    }\n",
       "\n",
       "    .dataframe thead th {\n",
       "        text-align: right;\n",
       "    }\n",
       "</style>\n",
       "<table border=\"1\" class=\"dataframe\">\n",
       "  <thead>\n",
       "    <tr style=\"text-align: right;\">\n",
       "      <th></th>\n",
       "      <th>symbol</th>\n",
       "      <th>interval</th>\n",
       "      <th>currency</th>\n",
       "      <th>exchange_timezone</th>\n",
       "      <th>exchange</th>\n",
       "      <th>mic_code</th>\n",
       "      <th>type</th>\n",
       "      <th>datetime</th>\n",
       "      <th>open</th>\n",
       "      <th>high</th>\n",
       "      <th>low</th>\n",
       "      <th>close</th>\n",
       "      <th>volume</th>\n",
       "    </tr>\n",
       "  </thead>\n",
       "  <tbody>\n",
       "    <tr>\n",
       "      <td>0</td>\n",
       "      <td>AMZN</td>\n",
       "      <td>1day</td>\n",
       "      <td>USD</td>\n",
       "      <td>America/New_York</td>\n",
       "      <td>NASDAQ</td>\n",
       "      <td>XNGS</td>\n",
       "      <td>Common Stock</td>\n",
       "      <td>2023-09-29</td>\n",
       "      <td>127.81500</td>\n",
       "      <td>129.14999</td>\n",
       "      <td>126.32000</td>\n",
       "      <td>127.21810</td>\n",
       "      <td>41436132</td>\n",
       "    </tr>\n",
       "  </tbody>\n",
       "</table>\n",
       "</div>"
      ],
      "text/plain": [
       "  symbol interval currency exchange_timezone exchange mic_code          type  \\\n",
       "0   AMZN     1day      USD  America/New_York   NASDAQ     XNGS  Common Stock   \n",
       "\n",
       "     datetime       open       high        low      close    volume  \n",
       "0  2023-09-29  127.81500  129.14999  126.32000  127.21810  41436132  "
      ]
     },
     "execution_count": 43,
     "metadata": {},
     "output_type": "execute_result"
    }
   ],
   "source": [
    "df1 = pd.DataFrame(dict['meta'], index = [0])\n",
    "df2 = pd.DataFrame(dict['values'])\n",
    "df3 = pd.concat([df1, df2], axis=1, ignore_index=False)\n",
    "\n",
    "df3"
   ]
  },
  {
   "cell_type": "code",
   "execution_count": null,
   "metadata": {},
   "outputs": [],
   "source": []
  }
 ],
 "metadata": {
  "kernelspec": {
   "display_name": "Python 3",
   "language": "python",
   "name": "python3"
  },
  "language_info": {
   "codemirror_mode": {
    "name": "ipython",
    "version": 3
   },
   "file_extension": ".py",
   "mimetype": "text/x-python",
   "name": "python",
   "nbconvert_exporter": "python",
   "pygments_lexer": "ipython3",
   "version": "3.7.4"
  }
 },
 "nbformat": 4,
 "nbformat_minor": 2
}
